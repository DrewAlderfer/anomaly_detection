{
 "cells": [
  {
   "cell_type": "code",
   "execution_count": 2,
   "id": "c4b48a1f",
   "metadata": {
    "lines_to_next_cell": 2
   },
   "outputs": [
    {
     "name": "stderr",
     "output_type": "stream",
     "text": [
      "2022-12-08 10:46:36.737446: I tensorflow/core/platform/cpu_feature_guard.cc:193] This TensorFlow binary is optimized with oneAPI Deep Neural Network Library (oneDNN) to use the following CPU instructions in performance-critical operations:  AVX2 AVX_VNNI FMA\n",
      "To enable them in other operations, rebuild TensorFlow with the appropriate compiler flags.\n",
      "2022-12-08 10:46:36.966523: I tensorflow/core/util/port.cc:104] oneDNN custom operations are on. You may see slightly different numerical results due to floating-point round-off errors from different computation orders. To turn them off, set the environment variable `TF_ENABLE_ONEDNN_OPTS=0`.\n"
     ]
    }
   ],
   "source": [
    "import os\n",
    "import pprint as pp\n",
    "import matplotlib.pyplot as plt\n",
    "import numpy as np\n",
    "import pandas as pd\n",
    "\n",
    "import tensorflow as tf\n",
    "from tensorflow.keras.models import Model, load_model\n",
    "from tensorflow.keras.utils import image_dataset_from_directory\n",
    "from tensorflow.keras import layers, losses\n",
    "\n",
    "from sklearn.metrics import accuracy_score, precision_score, recall_score\n",
    "from sklearn.model_selection import train_test_split"
   ]
  },
  {
   "cell_type": "code",
   "execution_count": 3,
   "id": "aa6ec087",
   "metadata": {},
   "outputs": [
    {
     "data": {
      "text/plain": [
       "<pprint.PrettyPrinter at 0x7fe7d93d9120>"
      ]
     },
     "execution_count": 3,
     "metadata": {},
     "output_type": "execute_result"
    }
   ],
   "source": [
    "pp.PrettyPrinter(indent=4)"
   ]
  },
  {
   "cell_type": "code",
   "execution_count": 4,
   "id": "5c6a8160",
   "metadata": {},
   "outputs": [
    {
     "name": "stderr",
     "output_type": "stream",
     "text": [
      "2022-12-08 10:46:39.662885: I tensorflow/compiler/xla/stream_executor/cuda/cuda_gpu_executor.cc:1026] could not open file to read NUMA node: /sys/bus/pci/devices/0000:01:00.0/numa_node\n",
      "Your kernel may have been built without NUMA support.\n",
      "2022-12-08 10:46:39.677789: I tensorflow/compiler/xla/stream_executor/cuda/cuda_gpu_executor.cc:1026] could not open file to read NUMA node: /sys/bus/pci/devices/0000:01:00.0/numa_node\n",
      "Your kernel may have been built without NUMA support.\n",
      "2022-12-08 10:46:39.677930: I tensorflow/compiler/xla/stream_executor/cuda/cuda_gpu_executor.cc:1026] could not open file to read NUMA node: /sys/bus/pci/devices/0000:01:00.0/numa_node\n",
      "Your kernel may have been built without NUMA support.\n",
      "2022-12-08 10:46:39.681431: I tensorflow/compiler/xla/stream_executor/cuda/cuda_gpu_executor.cc:1026] could not open file to read NUMA node: /sys/bus/pci/devices/0000:01:00.0/numa_node\n",
      "Your kernel may have been built without NUMA support.\n",
      "2022-12-08 10:46:39.681459: I tensorflow/compiler/xla/stream_executor/cuda/cuda_gpu_executor.cc:1026] could not open file to read NUMA node: /sys/bus/pci/devices/0000:01:00.0/numa_node\n",
      "Your kernel may have been built without NUMA support.\n",
      "2022-12-08 10:46:39.681471: I tensorflow/compiler/xla/stream_executor/cuda/cuda_gpu_executor.cc:1026] could not open file to read NUMA node: /sys/bus/pci/devices/0000:01:00.0/numa_node\n",
      "Your kernel may have been built without NUMA support.\n",
      "2022-12-08 10:46:41.016922: I tensorflow/compiler/xla/stream_executor/cuda/cuda_gpu_executor.cc:1026] could not open file to read NUMA node: /sys/bus/pci/devices/0000:01:00.0/numa_node\n",
      "Your kernel may have been built without NUMA support.\n",
      "2022-12-08 10:46:41.017208: I tensorflow/compiler/xla/stream_executor/cuda/cuda_gpu_executor.cc:1026] could not open file to read NUMA node: /sys/bus/pci/devices/0000:01:00.0/numa_node\n",
      "Your kernel may have been built without NUMA support.\n",
      "2022-12-08 10:46:41.017217: I tensorflow/core/common_runtime/gpu/gpu_device.cc:1701] Could not identify NUMA node of platform GPU id 0, defaulting to 0.  Your kernel may not have been built with NUMA support.\n",
      "2022-12-08 10:46:41.017235: I tensorflow/compiler/xla/stream_executor/cuda/cuda_gpu_executor.cc:1026] could not open file to read NUMA node: /sys/bus/pci/devices/0000:01:00.0/numa_node\n",
      "Your kernel may have been built without NUMA support.\n",
      "2022-12-08 10:46:41.017262: I tensorflow/core/common_runtime/gpu/gpu_device.cc:1614] Created device /job:localhost/replica:0/task:0/device:GPU:0 with 5488 MB memory:  -> device: 0, name: NVIDIA RTX A2000 8GB Laptop GPU, pci bus id: 0000:01:00.0, compute capability: 8.6\n"
     ]
    }
   ],
   "source": [
    "conv_model = load_model('./models/conv_model_01/')\n",
    "\n",
    "\n"
   ]
  },
  {
   "cell_type": "code",
   "execution_count": 5,
   "id": "83af038e",
   "metadata": {},
   "outputs": [
    {
     "ename": "NameError",
     "evalue": "name 'test_good' is not defined",
     "output_type": "error",
     "traceback": [
      "\u001b[0;31m---------------------------------------------------------------------------\u001b[0m",
      "\u001b[0;31mNameError\u001b[0m                                 Traceback (most recent call last)",
      "Cell \u001b[0;32mIn[5], line 1\u001b[0m\n\u001b[0;32m----> 1\u001b[0m \u001b[38;5;28;01mfor\u001b[39;00m batch \u001b[38;5;129;01min\u001b[39;00m \u001b[43mtest_good\u001b[49m:\n\u001b[1;32m      2\u001b[0m     plt\u001b[38;5;241m.\u001b[39mimshow(batch)\n\u001b[1;32m      3\u001b[0m     plt\u001b[38;5;241m.\u001b[39mshow()\n",
      "\u001b[0;31mNameError\u001b[0m: name 'test_good' is not defined"
     ]
    }
   ],
   "source": [
    "for batch in test_good:\n",
    "    plt.imshow(batch)\n",
    "    plt.show()\n",
    "    break"
   ]
  },
  {
   "cell_type": "code",
   "execution_count": null,
   "id": "ce6354c5",
   "metadata": {},
   "outputs": [],
   "source": [
    "AUTOTUNE = tf.data.AUTOTUNE\n",
    "test_good = test_good.cache().prefetch(buffer_size=AUTOTUNE)"
   ]
  },
  {
   "cell_type": "code",
   "execution_count": null,
   "id": "cd3c8b93",
   "metadata": {},
   "outputs": [],
   "source": [
    "norm_layer = tf.keras.layers.Rescaling(1./255)"
   ]
  },
  {
   "cell_type": "markdown",
   "id": "54b289e3",
   "metadata": {},
   "source": [
    "Normal Test Data Init\n",
    "-------------------"
   ]
  },
  {
   "cell_type": "code",
   "execution_count": null,
   "id": "a716e75b",
   "metadata": {},
   "outputs": [],
   "source": [
    "test_good = image_dataset_from_directory(\"./data/screw/test/good/\",\n",
    "                                         labels=None,\n",
    "                                         seed = 142,\n",
    "                                         color_mode=\"grayscale\",\n",
    "                                         batch_size=None,\n",
    "                                         image_size=(200, 200))"
   ]
  },
  {
   "cell_type": "code",
   "execution_count": null,
   "id": "bfef843d",
   "metadata": {},
   "outputs": [],
   "source": [
    "test_good_norm = test_good.map(lambda x: (norm_layer(x)))\n",
    "print(type(test_good_norm))"
   ]
  },
  {
   "cell_type": "code",
   "execution_count": null,
   "id": "10d1f2ff",
   "metadata": {},
   "outputs": [],
   "source": [
    "for img in test_good_norm:\n",
    "    print(type(img))\n",
    "    plt.imshow(img)\n",
    "    plt.show()\n",
    "    break"
   ]
  },
  {
   "cell_type": "code",
   "execution_count": null,
   "id": "4ee90683",
   "metadata": {},
   "outputs": [],
   "source": [
    "x_good_np = np.array(list(map(lambda x : x, test_good_norm.as_numpy_iterator())), 'float32')\n",
    "print(x_good_np.shape)"
   ]
  },
  {
   "cell_type": "code",
   "execution_count": null,
   "id": "f72e343b",
   "metadata": {},
   "outputs": [],
   "source": [
    "enc_x = conv_model.encoder(x_good_np).numpy()"
   ]
  },
  {
   "cell_type": "code",
   "execution_count": null,
   "id": "241d061e",
   "metadata": {},
   "outputs": [],
   "source": [
    "dec_x = conv_model.decoder(enc_x).numpy()\n",
    "print(dec_x.shape)"
   ]
  },
  {
   "cell_type": "code",
   "execution_count": null,
   "id": "75b9d304",
   "metadata": {},
   "outputs": [],
   "source": [
    "test = dec_x\n",
    "plt.figure(figsize=(15, 3))\n",
    "for i in range(5):\n",
    "    # print(test[i].shape)\n",
    "    ax = plt.subplot(1, 5, i + 1)\n",
    "    plt.imshow(test[i])\n",
    "    plt.axis('off')\n",
    "plt.show()"
   ]
  },
  {
   "cell_type": "markdown",
   "id": "208a081b",
   "metadata": {},
   "source": [
    "### Anomalous Test Data Init\n",
    "----------------"
   ]
  },
  {
   "cell_type": "code",
   "execution_count": null,
   "id": "65778f65",
   "metadata": {},
   "outputs": [],
   "source": [
    "test_anom = image_dataset_from_directory(\"./data/screw/test/\",\n",
    "                                         labels=None,\n",
    "                                         shuffle=False,\n",
    "                                         color_mode=\"grayscale\",\n",
    "                                         batch_size=None,\n",
    "                                         image_size=(200, 200))"
   ]
  },
  {
   "cell_type": "code",
   "execution_count": null,
   "id": "e1f19002",
   "metadata": {},
   "outputs": [],
   "source": [
    "test_anom_norm = test_anom.map(lambda x: (norm_layer(x)))\n",
    "print(type(test_anom_norm))"
   ]
  },
  {
   "cell_type": "code",
   "execution_count": null,
   "id": "bab2c75f",
   "metadata": {},
   "outputs": [],
   "source": [
    "for img in test_anom_norm:\n",
    "    print(type(img))\n",
    "    plt.imshow(img)\n",
    "    plt.show()\n",
    "    break"
   ]
  },
  {
   "cell_type": "code",
   "execution_count": null,
   "id": "e60e5d1a",
   "metadata": {},
   "outputs": [],
   "source": [
    "x_anom_np = np.array(list(map(lambda x : x, test_anom_norm.as_numpy_iterator())), 'float32')\n",
    "x_anom_np = x_anom_np[41:]\n",
    "print(x_anom_np.shape)"
   ]
  },
  {
   "cell_type": "code",
   "execution_count": null,
   "id": "7be8456c",
   "metadata": {},
   "outputs": [],
   "source": [
    "enc_x_anom = conv_model.encoder(x_anom_np).numpy()"
   ]
  },
  {
   "cell_type": "code",
   "execution_count": null,
   "id": "498956c0",
   "metadata": {},
   "outputs": [],
   "source": [
    "dec_x_anom = conv_model.decoder(enc_x_anom).numpy()\n",
    "print(dec_x_anom.shape)"
   ]
  },
  {
   "cell_type": "code",
   "execution_count": null,
   "id": "3a96238e",
   "metadata": {},
   "outputs": [],
   "source": [
    "test = dec_x_anom\n",
    "plt.figure(figsize=(15, 3))\n",
    "for i in range(5):\n",
    "    # print(test[i].shape)\n",
    "    ax = plt.subplot(1, 5, i + 1)\n",
    "    plt.imshow(test[i])\n",
    "    plt.axis('off')\n",
    "plt.show()"
   ]
  },
  {
   "cell_type": "markdown",
   "id": "643c2700",
   "metadata": {},
   "source": [
    "## Calculating the Loss\n",
    "-----"
   ]
  },
  {
   "cell_type": "markdown",
   "id": "e1fe9444",
   "metadata": {},
   "source": [
    "##### Normal Data Decoding Loss"
   ]
  },
  {
   "cell_type": "code",
   "execution_count": null,
   "id": "232bee87",
   "metadata": {},
   "outputs": [],
   "source": [
    "print(dec_x.shape)"
   ]
  },
  {
   "cell_type": "code",
   "execution_count": null,
   "id": "22e40fbc",
   "metadata": {},
   "outputs": [],
   "source": [
    "y_pred = dec_x.reshape(41, 40000)\n",
    "y_true = x_good_np.reshape(41, 40000)\n",
    "loss = np.mean(abs(y_true - y_pred), axis=-1)\n",
    "plt.hist(loss, bins=12)\n",
    "plt.xlabel(\"Loss Distribution for Normal Data\")\n",
    "plt.ylabel(\"No. of Samples\")\n",
    "plt.show()"
   ]
  },
  {
   "cell_type": "markdown",
   "id": "43d6e4f4",
   "metadata": {},
   "source": [
    "##### Anomalous Data Decoding Loss"
   ]
  },
  {
   "cell_type": "code",
   "execution_count": null,
   "id": "4f512858",
   "metadata": {},
   "outputs": [],
   "source": [
    "dec_x_anom.shape"
   ]
  },
  {
   "cell_type": "code",
   "execution_count": null,
   "id": "a3d7bd74",
   "metadata": {},
   "outputs": [],
   "source": [
    "y_anom_pred = dec_x_anom.reshape(119, 40000)\n",
    "y_anom_true = x_anom_np.reshape(119, 40000)\n",
    "loss_anom = np.mean(abs(y_anom_true - y_anom_pred), axis=-1)"
   ]
  },
  {
   "cell_type": "code",
   "execution_count": null,
   "id": "03a1c489",
   "metadata": {},
   "outputs": [],
   "source": [
    "plt.hist(loss_anom, bins=12)\n",
    "plt.xlabel('Loss Distribution for Anomalous Data')\n",
    "plt.ylabel(\"No. of Samples\")\n",
    "plt.show()"
   ]
  },
  {
   "cell_type": "code",
   "execution_count": null,
   "id": "320670e6",
   "metadata": {},
   "outputs": [],
   "source": [
    "loss_hist = np.histogram(loss, bins=20)\n",
    "loss_max = loss_hist[0].max()\n",
    "norm_bar_y = loss_hist[0] / loss_max\n",
    "norm_bar_x = loss_hist[1][1:]\n",
    "\n",
    "loss_anom_hist = np.histogram(loss_anom, bins=41)\n",
    "anom_bar_y = loss_anom_hist[0] / loss_anom_hist[0].max()\n",
    "anom_bar_x = loss_anom_hist[1][1:]"
   ]
  },
  {
   "cell_type": "code",
   "execution_count": null,
   "id": "4d97c8b7",
   "metadata": {
    "scrolled": false
   },
   "outputs": [],
   "source": [
    "plt.bar(x=norm_bar_x, height=norm_bar_y, width=np.diff(norm_bar_x)[0], alpha=.5)\n",
    "plt.bar(x=anom_bar_x, height=anom_bar_y, width=np.diff(anom_bar_x)[0], alpha=.5)\n",
    "plt.savefig(\"./images/anom_norm_dist.png\")\n",
    "plt.show()"
   ]
  },
  {
   "cell_type": "code",
   "execution_count": null,
   "id": "9de88af4",
   "metadata": {},
   "outputs": [],
   "source": [
    "def predict(model, data, threshold):\n",
    "  encoded = model.encoder(data).numpy()\n",
    "  reconstructions = model.decoder(encoded).numpy().reshape(119, 40000)\n",
    "  loss = tf.keras.losses.mae(reconstructions, data.reshape(119, 40000))\n",
    "  return tf.math.less(loss, threshold)\n",
    "\n"
   ]
  },
  {
   "cell_type": "code",
   "execution_count": null,
   "id": "64a7a326",
   "metadata": {},
   "outputs": [],
   "source": [
    "threshold = np.mean(loss) + np.std(loss)\n",
    "print(\"Threshold: \", threshold)"
   ]
  },
  {
   "cell_type": "code",
   "execution_count": null,
   "id": "cefb795c",
   "metadata": {},
   "outputs": [],
   "source": [
    "os.environ[\"XLA_FLAGS\"]=\"--xla_gpu_cuda_data_dir=/opt/cuda/\"\n",
    "preds = predict(conv_model, x_anom_np, threshold)"
   ]
  },
  {
   "cell_type": "code",
   "execution_count": null,
   "id": "d907da63",
   "metadata": {},
   "outputs": [],
   "source": [
    "accuracy = (119 - np.count_nonzero(preds)) / 119\n",
    "print(f\"Accuracy Score: {accuracy*100:.2f}\")"
   ]
  }
 ],
 "metadata": {
  "jupytext": {
   "cell_metadata_filter": "-all",
   "formats": "ipynb,auto:percent",
   "notebook_metadata_filter": "-all"
  },
  "kernelspec": {
   "display_name": "Python 3 (ipykernel)",
   "language": "python",
   "name": "python3"
  },
  "language_info": {
   "codemirror_mode": {
    "name": "ipython",
    "version": 3
   },
   "file_extension": ".py",
   "mimetype": "text/x-python",
   "name": "python",
   "nbconvert_exporter": "python",
   "pygments_lexer": "ipython3",
   "version": "3.10.8"
  }
 },
 "nbformat": 4,
 "nbformat_minor": 5
}

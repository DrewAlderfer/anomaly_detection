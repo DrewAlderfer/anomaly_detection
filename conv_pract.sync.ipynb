{
 "cells": [
  {
   "cell_type": "code",
   "execution_count": 1,
   "id": "c887e0a2",
   "metadata": {},
   "outputs": [],
   "source": [
    "%load_ext autoreload"
   ]
  },
  {
   "cell_type": "code",
   "execution_count": 2,
   "id": "9d6fd5a1",
   "metadata": {},
   "outputs": [
    {
     "name": "stderr",
     "output_type": "stream",
     "text": [
      "2022-12-12 17:54:48.284398: I tensorflow/core/platform/cpu_feature_guard.cc:193] This TensorFlow binary is optimized with oneAPI Deep Neural Network Library (oneDNN) to use the following CPU instructions in performance-critical operations:  AVX2 AVX_VNNI FMA\n",
      "To enable them in other operations, rebuild TensorFlow with the appropriate compiler flags.\n",
      "2022-12-12 17:54:48.349887: I tensorflow/core/util/port.cc:104] oneDNN custom operations are on. You may see slightly different numerical results due to floating-point round-off errors from different computation orders. To turn them off, set the environment variable `TF_ENABLE_ONEDNN_OPTS=0`.\n"
     ]
    }
   ],
   "source": [
    "import os\n",
    "import typing\n",
    "\n",
    "import joblib\n",
    "import matplotlib.colors as mcolors\n",
    "import matplotlib.pyplot as plt\n",
    "import numpy as np\n",
    "import numpy.typing as npt\n",
    "import tensorflow as tf\n",
    "from IPython.display import display\n",
    "from PIL import Image, ImageFilter\n",
    "from tensorflow.keras.layers import Layer\n",
    "from tensorflow.keras.losses import Loss\n",
    "from tensorflow.keras.models import Model, Sequential\n",
    "\n",
    "from util.models import new_model\n",
    "from util.func.sobel_funcs import SobelEdges\n",
    "\n",
    "from PIL import Image, ImageFilter"
   ]
  },
  {
   "cell_type": "code",
   "execution_count": 3,
   "id": "01ce5a65",
   "metadata": {},
   "outputs": [],
   "source": [
    "%autoreload 2\n",
    "%aimport util.models\n",
    "%aimport util.func.sobel_funcs"
   ]
  },
  {
   "cell_type": "code",
   "execution_count": 4,
   "id": "284a9daa",
   "metadata": {},
   "outputs": [],
   "source": [
    "class SobelLayer(tf.keras.layers.Layer):\n",
    "    def __init__(self, blur, activation=None):\n",
    "        super().__init__()\n",
    "        self.activation = activation\n",
    "        self.edgefinder = sobel_edge_finder\n",
    "        self.blur = blur\n",
    "\n",
    "    # def build(self, input_shape):\n",
    "    #     self.w = self.add_weight(\n",
    "    #             shape=(input_shape[-1]),\n",
    "    #             initializer=\"random_normal\",\n",
    "    #             trainable=True)\n",
    "    #             \n",
    "    #     self.b = self.add_weight(\n",
    "    #             shape=(1,), initializer=\"zeros\", trainable=True)\n",
    "\n",
    "    def call(self, input):\n",
    "        blur = self.blur\n",
    "        print(input.shape)\n",
    "        x = self.edgefinder(input)\n",
    "        x = x.hsv_edges()\n",
    "        return tf.add(input, x)"
   ]
  },
  {
   "cell_type": "code",
   "execution_count": 5,
   "id": "2dd76a1f",
   "metadata": {},
   "outputs": [],
   "source": [
    "class sobel_edge_finder():\n",
    "    def __init__(self, input:np.ndarray):\n",
    "        self.input = input\n",
    "        self.width, self.height, _ = input.shape\n",
    "        self.channels = 1\n",
    "        # self.blur_amount = blur\n",
    "        self.x_g, self.y_g = self._process_edges()\n",
    "        self.angle_map = np.arctan2(self.y_g, self.x_g)\n",
    "\n",
    "    def _process_edges(self):\n",
    "        # image = Image.fromarray(self.input)\n",
    "        # blurred = image.filter(ImageFilter.GaussianBlur(self.blur_amount))\n",
    "        # blurred_arr = np.array(blurred, dtype='float')\n",
    "        # blurred_tensor = tf.reshape(tf.convert_to_tensor(blurred_arr, dtype=tf.float32), [1,\n",
    "        #                                                                  self.width,\n",
    "        #                                                                  self.height,\n",
    "        #                                                                  self.channels])\n",
    "        edge_tensor = tf.image.sobel_edges(self.input)\n",
    "        x_g = np.asarray(edge_tensor[0, :, :, :, 0])\n",
    "        y_g = np.asarray(edge_tensor[0, :, :, :, 1])\n",
    "\n",
    "        return (x_g, y_g)\n",
    "    \n",
    "    def hsv_edges(self):\n",
    "        \"\"\"\n",
    "        This method combines the angle_map and bw_edges attributes into a hsv map where the sin of \n",
    "        the gradient is used as the hue and the magnitude of the gradient is the value attributes \n",
    "        of an hsv image tensor. That tensor is then converted into an rgb image for display.\n",
    "\n",
    "        returns tf.tensor with shape (width, height, 3)\n",
    "        \"\"\"\n",
    "        hue = (self.angle_map + np.pi) / (np.pi * 2)                            # angle_map is in radians from - to  this remaps it to 0 to 1\n",
    "        saturation = np.ones((self.width, self.height, 1), dtype='float')\n",
    "        value = self.bw_edges()\n",
    "        value = (value - value.min()) / value.max()\n",
    "\n",
    "        return np.concatenate((hue, saturation, value), axis=2) \n",
    "        \n",
    "    def bw_edges(self):\n",
    "        \"\"\"\n",
    "        Returns a grayscale representation of the sobel edges.\n",
    "        \"\"\"\n",
    "        return np.sqrt(self.x_g**2 + self.y_g**2)"
   ]
  },
  {
   "cell_type": "code",
   "execution_count": 6,
   "id": "c2cef2d9",
   "metadata": {},
   "outputs": [
    {
     "name": "stdout",
     "output_type": "stream",
     "text": [
      "<class 'numpy.ndarray'>\n"
     ]
    },
    {
     "name": "stderr",
     "output_type": "stream",
     "text": [
      "2022-12-12 17:54:55.703251: I tensorflow/compiler/xla/stream_executor/cuda/cuda_gpu_executor.cc:1026] could not open file to read NUMA node: /sys/bus/pci/devices/0000:01:00.0/numa_node\n",
      "Your kernel may have been built without NUMA support.\n",
      "2022-12-12 17:54:55.705631: I tensorflow/compiler/xla/stream_executor/cuda/cuda_gpu_executor.cc:1026] could not open file to read NUMA node: /sys/bus/pci/devices/0000:01:00.0/numa_node\n",
      "Your kernel may have been built without NUMA support.\n",
      "2022-12-12 17:54:55.705655: I tensorflow/compiler/xla/stream_executor/cuda/cuda_gpu_executor.cc:1026] could not open file to read NUMA node: /sys/bus/pci/devices/0000:01:00.0/numa_node\n",
      "Your kernel may have been built without NUMA support.\n",
      "2022-12-12 17:54:55.707871: I tensorflow/compiler/xla/stream_executor/cuda/cuda_gpu_executor.cc:1026] could not open file to read NUMA node: /sys/bus/pci/devices/0000:01:00.0/numa_node\n",
      "Your kernel may have been built without NUMA support.\n",
      "2022-12-12 17:54:55.707897: I tensorflow/compiler/xla/stream_executor/cuda/cuda_gpu_executor.cc:1026] could not open file to read NUMA node: /sys/bus/pci/devices/0000:01:00.0/numa_node\n",
      "Your kernel may have been built without NUMA support.\n",
      "2022-12-12 17:54:55.707908: I tensorflow/compiler/xla/stream_executor/cuda/cuda_gpu_executor.cc:1026] could not open file to read NUMA node: /sys/bus/pci/devices/0000:01:00.0/numa_node\n",
      "Your kernel may have been built without NUMA support.\n",
      "2022-12-12 17:54:56.473055: I tensorflow/compiler/xla/stream_executor/cuda/cuda_gpu_executor.cc:1026] could not open file to read NUMA node: /sys/bus/pci/devices/0000:01:00.0/numa_node\n",
      "Your kernel may have been built without NUMA support.\n",
      "2022-12-12 17:54:56.473106: I tensorflow/compiler/xla/stream_executor/cuda/cuda_gpu_executor.cc:1026] could not open file to read NUMA node: /sys/bus/pci/devices/0000:01:00.0/numa_node\n",
      "Your kernel may have been built without NUMA support.\n",
      "2022-12-12 17:54:56.473111: I tensorflow/core/common_runtime/gpu/gpu_device.cc:1701] Could not identify NUMA node of platform GPU id 0, defaulting to 0.  Your kernel may not have been built with NUMA support.\n",
      "2022-12-12 17:54:56.473127: I tensorflow/compiler/xla/stream_executor/cuda/cuda_gpu_executor.cc:1026] could not open file to read NUMA node: /sys/bus/pci/devices/0000:01:00.0/numa_node\n",
      "Your kernel may have been built without NUMA support.\n",
      "2022-12-12 17:54:56.473153: I tensorflow/core/common_runtime/gpu/gpu_device.cc:1614] Created device /job:localhost/replica:0/task:0/device:GPU:0 with 5488 MB memory:  -> device: 0, name: NVIDIA RTX A2000 8GB Laptop GPU, pci bus id: 0000:01:00.0, compute capability: 8.6\n",
      "2022-12-12 17:54:57.494467: I tensorflow/compiler/xla/stream_executor/cuda/cuda_dnn.cc:428] Loaded cuDNN version 8600\n"
     ]
    },
    {
     "name": "stdout",
     "output_type": "stream",
     "text": [
      "<class 'numpy.ndarray'> (256, 256, 3)\n"
     ]
    }
   ],
   "source": [
    "image = \"./data/screw/train/good/002.png\"\n",
    "input = Image.open(image)\n",
    "input = np.asarray(input.resize((256, 256)))\n",
    "print(type(input))\n",
    "edges = SobelEdges(image, blur=4, resize=(256, 256))\n",
    "hsv_edges = edges.hsv_edges()\n",
    "print(type(hsv_edges), hsv_edges.shape)"
   ]
  },
  {
   "cell_type": "code",
   "execution_count": 10,
   "id": "a3bfe7ac",
   "metadata": {},
   "outputs": [
    {
     "name": "stdout",
     "output_type": "stream",
     "text": [
      "(256, 256)\n"
     ]
    }
   ],
   "source": [
    "img_size = (256, 256)\n",
    "mut_img_size = img_size + (3,)\n",
    "print(img_size)"
   ]
  },
  {
   "cell_type": "code",
   "execution_count": 11,
   "id": "9dd1701f",
   "metadata": {},
   "outputs": [
    {
     "name": "stdout",
     "output_type": "stream",
     "text": [
      "(256, 256, 1) (256, 256, 4)\n"
     ]
    }
   ],
   "source": [
    "input = (input - input.min()) / input.max()\n",
    "input = np.reshape(input, (*img_size, 1))\n",
    "layer_input = np.concatenate((input, hsv_edges), axis=2)\n",
    "print(input.shape, layer_input.shape)"
   ]
  },
  {
   "cell_type": "code",
   "execution_count": 8,
   "id": "855658ca",
   "metadata": {},
   "outputs": [
    {
     "name": "stdout",
     "output_type": "stream",
     "text": [
      "Model: \"model\"\n",
      "__________________________________________________________________________________________________\n",
      " Layer (type)                   Output Shape         Param #     Connected to                     \n",
      "==================================================================================================\n",
      " input_1 (InputLayer)           [(None, 256, 256, 4  0           []                               \n",
      "                                )]                                                                \n",
      "                                                                                                  \n",
      " conv2d (Conv2D)                (None, 128, 128, 8)  296         ['input_1[0][0]']                \n",
      "                                                                                                  \n",
      " conv2d_1 (Conv2D)              (None, 64, 64, 8)    584         ['conv2d[0][0]']                 \n",
      "                                                                                                  \n",
      " conv2d_2 (Conv2D)              (None, 32, 32, 48)   3504        ['conv2d_1[0][0]']               \n",
      "                                                                                                  \n",
      " conv2d_3 (Conv2D)              (None, 16, 16, 48)   20784       ['conv2d_2[0][0]']               \n",
      "                                                                                                  \n",
      " conv2d_4 (Conv2D)              (None, 8, 8, 128)    55424       ['conv2d_3[0][0]']               \n",
      "                                                                                                  \n",
      " conv2d_5 (Conv2D)              (None, 4, 4, 128)    147584      ['conv2d_4[0][0]']               \n",
      "                                                                                                  \n",
      " conv2d_transpose (Conv2DTransp  (None, 8, 8, 96)    110688      ['conv2d_5[0][0]']               \n",
      " ose)                                                                                             \n",
      "                                                                                                  \n",
      " conv2d_transpose_1 (Conv2DTran  (None, 16, 16, 48)  41520       ['conv2d_transpose[0][0]']       \n",
      " spose)                                                                                           \n",
      "                                                                                                  \n",
      " tf.math.add (TFOpLambda)       (None, 16, 16, 48)   0           ['conv2d_transpose_1[0][0]',     \n",
      "                                                                  'conv2d_3[0][0]']               \n",
      "                                                                                                  \n",
      " conv2d_transpose_2 (Conv2DTran  (None, 64, 64, 24)  10392       ['tf.math.add[0][0]']            \n",
      " spose)                                                                                           \n",
      "                                                                                                  \n",
      " conv2d_transpose_3 (Conv2DTran  (None, 256, 256, 16  3472       ['conv2d_transpose_2[0][0]']     \n",
      " spose)                         )                                                                 \n",
      "                                                                                                  \n",
      " conv2d_6 (Conv2D)              (None, 256, 256, 4)  580         ['conv2d_transpose_3[0][0]']     \n",
      "                                                                                                  \n",
      "==================================================================================================\n",
      "Total params: 394,828\n",
      "Trainable params: 394,828\n",
      "Non-trainable params: 0\n",
      "__________________________________________________________________________________________________\n"
     ]
    }
   ],
   "source": [
    "def conv_layers(img_size):\n",
    "    inputs = tf.keras.Input(shape=(img_size + (4,)))\n",
    "    x = tf.keras.layers.Conv2D(8, 3, activation=\"relu\", padding=\"same\", strides=2)(inputs)\n",
    "    x = tf.keras.layers.Conv2D(8, 3, padding=\"same\", strides=2)(x)\n",
    "    x = tf.keras.layers.Conv2D(48, 3, activation=\"relu\", padding=\"same\", strides=2)(x)\n",
    "    x = tf.keras.layers.Conv2D(48, 3, padding=\"same\", strides=2)(x)\n",
    "    residual = x\n",
    "    x = tf.keras.layers.Conv2D(128, 3, activation=\"relu\", padding=\"same\", strides=2)(x)\n",
    "    x = tf.keras.layers.Conv2D(128, 3, padding=\"same\", strides=2)(x)\n",
    "\n",
    "    x = tf.keras.layers.Conv2DTranspose(96, 3, padding=\"same\", strides=2)(x)\n",
    "    x = tf.keras.layers.Conv2DTranspose(48, 3, activation=\"relu\", padding=\"same\", strides=2)(x)\n",
    "    x = tf.add(x, residual)\n",
    "    x = tf.keras.layers.Conv2DTranspose(24, 3, padding=\"same\", strides=4)(x)\n",
    "    x = tf.keras.layers.Conv2DTranspose(16, 3, activation=\"relu\", padding=\"same\", strides=4)(x)\n",
    "\n",
    "    outputs = tf.keras.layers.Conv2D(4, 3, activation=\"softmax\", padding=\"same\")(x)\n",
    "\n",
    "    model = tf.keras.Model(inputs, outputs)\n",
    "    return model\n",
    "\n",
    "model = conv_layers(img_size=img_size)\n",
    "model.summary()"
   ]
  },
  {
   "cell_type": "code",
   "execution_count": 12,
   "id": "c3e5739c",
   "metadata": {},
   "outputs": [],
   "source": [
    "inputs = np.reshape(layer_input, (1, *img_size, 4))\n",
    "model.compile(optimizer='rmsprop', loss='mse')"
   ]
  },
  {
   "cell_type": "code",
   "execution_count": 13,
   "id": "1952e870",
   "metadata": {
    "scrolled": false
   },
   "outputs": [
    {
     "name": "stderr",
     "output_type": "stream",
     "text": [
      "2022-12-12 17:55:18.960609: W tensorflow/core/framework/op_kernel.cc:1830] OP_REQUIRES failed at conv_ops_fused_impl.h:675 : UNKNOWN: CUDNN_STATUS_EXECUTION_FAILED\n",
      "in tensorflow/compiler/xla/stream_executor/cuda/cuda_dnn.cc(4644): 'status'\n"
     ]
    },
    {
     "ename": "UnknownError",
     "evalue": "Graph execution error:\n\nDetected at node 'model/conv2d/Relu' defined at (most recent call last):\n    File \"/home/drew/conda/envs/tf_env/lib/python3.10/runpy.py\", line 196, in _run_module_as_main\n      return _run_code(code, main_globals, None,\n    File \"/home/drew/conda/envs/tf_env/lib/python3.10/runpy.py\", line 86, in _run_code\n      exec(code, run_globals)\n    File \"/home/drew/conda/envs/tf_env/lib/python3.10/site-packages/ipykernel_launcher.py\", line 17, in <module>\n      app.launch_new_instance()\n    File \"/home/drew/conda/envs/tf_env/lib/python3.10/site-packages/traitlets/config/application.py\", line 985, in launch_instance\n      app.start()\n    File \"/home/drew/conda/envs/tf_env/lib/python3.10/site-packages/ipykernel/kernelapp.py\", line 712, in start\n      self.io_loop.start()\n    File \"/home/drew/conda/envs/tf_env/lib/python3.10/site-packages/tornado/platform/asyncio.py\", line 215, in start\n      self.asyncio_loop.run_forever()\n    File \"/home/drew/conda/envs/tf_env/lib/python3.10/asyncio/base_events.py\", line 603, in run_forever\n      self._run_once()\n    File \"/home/drew/conda/envs/tf_env/lib/python3.10/asyncio/base_events.py\", line 1899, in _run_once\n      handle._run()\n    File \"/home/drew/conda/envs/tf_env/lib/python3.10/asyncio/events.py\", line 80, in _run\n      self._context.run(self._callback, *self._args)\n    File \"/home/drew/conda/envs/tf_env/lib/python3.10/site-packages/ipykernel/kernelbase.py\", line 510, in dispatch_queue\n      await self.process_one()\n    File \"/home/drew/conda/envs/tf_env/lib/python3.10/site-packages/ipykernel/kernelbase.py\", line 499, in process_one\n      await dispatch(*args)\n    File \"/home/drew/conda/envs/tf_env/lib/python3.10/site-packages/ipykernel/kernelbase.py\", line 406, in dispatch_shell\n      await result\n    File \"/home/drew/conda/envs/tf_env/lib/python3.10/site-packages/ipykernel/kernelbase.py\", line 730, in execute_request\n      reply_content = await reply_content\n    File \"/home/drew/conda/envs/tf_env/lib/python3.10/site-packages/ipykernel/ipkernel.py\", line 383, in do_execute\n      res = shell.run_cell(\n    File \"/home/drew/conda/envs/tf_env/lib/python3.10/site-packages/ipykernel/zmqshell.py\", line 528, in run_cell\n      return super().run_cell(*args, **kwargs)\n    File \"/home/drew/conda/envs/tf_env/lib/python3.10/site-packages/IPython/core/interactiveshell.py\", line 2940, in run_cell\n      result = self._run_cell(\n    File \"/home/drew/conda/envs/tf_env/lib/python3.10/site-packages/IPython/core/interactiveshell.py\", line 2995, in _run_cell\n      return runner(coro)\n    File \"/home/drew/conda/envs/tf_env/lib/python3.10/site-packages/IPython/core/async_helpers.py\", line 129, in _pseudo_sync_runner\n      coro.send(None)\n    File \"/home/drew/conda/envs/tf_env/lib/python3.10/site-packages/IPython/core/interactiveshell.py\", line 3194, in run_cell_async\n      has_raised = await self.run_ast_nodes(code_ast.body, cell_name,\n    File \"/home/drew/conda/envs/tf_env/lib/python3.10/site-packages/IPython/core/interactiveshell.py\", line 3373, in run_ast_nodes\n      if await self.run_code(code, result, async_=asy):\n    File \"/home/drew/conda/envs/tf_env/lib/python3.10/site-packages/IPython/core/interactiveshell.py\", line 3433, in run_code\n      exec(code_obj, self.user_global_ns, self.user_ns)\n    File \"/tmp/ipykernel_639/4101774951.py\", line 3, in <module>\n      history = model.fit(inputs, inputs,\n    File \"/home/drew/conda/envs/tf_env/lib/python3.10/site-packages/keras/utils/traceback_utils.py\", line 65, in error_handler\n      return fn(*args, **kwargs)\n    File \"/home/drew/conda/envs/tf_env/lib/python3.10/site-packages/keras/engine/training.py\", line 1678, in fit\n      tmp_logs = self.train_function(iterator)\n    File \"/home/drew/conda/envs/tf_env/lib/python3.10/site-packages/keras/engine/training.py\", line 1277, in train_function\n      return step_function(self, iterator)\n    File \"/home/drew/conda/envs/tf_env/lib/python3.10/site-packages/keras/engine/training.py\", line 1261, in step_function\n      outputs = model.distribute_strategy.run(run_step, args=(data,))\n    File \"/home/drew/conda/envs/tf_env/lib/python3.10/site-packages/keras/engine/training.py\", line 1242, in run_step\n      outputs = model.train_step(data)\n    File \"/home/drew/conda/envs/tf_env/lib/python3.10/site-packages/keras/engine/training.py\", line 1043, in train_step\n      y_pred = self(x, training=True)\n    File \"/home/drew/conda/envs/tf_env/lib/python3.10/site-packages/keras/utils/traceback_utils.py\", line 65, in error_handler\n      return fn(*args, **kwargs)\n    File \"/home/drew/conda/envs/tf_env/lib/python3.10/site-packages/keras/engine/training.py\", line 557, in __call__\n      return super().__call__(*args, **kwargs)\n    File \"/home/drew/conda/envs/tf_env/lib/python3.10/site-packages/keras/utils/traceback_utils.py\", line 65, in error_handler\n      return fn(*args, **kwargs)\n    File \"/home/drew/conda/envs/tf_env/lib/python3.10/site-packages/keras/engine/base_layer.py\", line 1144, in __call__\n      outputs = call_fn(inputs, *args, **kwargs)\n    File \"/home/drew/conda/envs/tf_env/lib/python3.10/site-packages/keras/utils/traceback_utils.py\", line 96, in error_handler\n      return fn(*args, **kwargs)\n    File \"/home/drew/conda/envs/tf_env/lib/python3.10/site-packages/keras/engine/functional.py\", line 512, in call\n      return self._run_internal_graph(inputs, training=training, mask=mask)\n    File \"/home/drew/conda/envs/tf_env/lib/python3.10/site-packages/keras/engine/functional.py\", line 669, in _run_internal_graph\n      outputs = node.layer(*args, **kwargs)\n    File \"/home/drew/conda/envs/tf_env/lib/python3.10/site-packages/keras/utils/traceback_utils.py\", line 65, in error_handler\n      return fn(*args, **kwargs)\n    File \"/home/drew/conda/envs/tf_env/lib/python3.10/site-packages/keras/engine/base_layer.py\", line 1144, in __call__\n      outputs = call_fn(inputs, *args, **kwargs)\n    File \"/home/drew/conda/envs/tf_env/lib/python3.10/site-packages/keras/utils/traceback_utils.py\", line 96, in error_handler\n      return fn(*args, **kwargs)\n    File \"/home/drew/conda/envs/tf_env/lib/python3.10/site-packages/keras/layers/convolutional/base_conv.py\", line 314, in call\n      return self.activation(outputs)\n    File \"/home/drew/conda/envs/tf_env/lib/python3.10/site-packages/keras/activations.py\", line 317, in relu\n      return backend.relu(\n    File \"/home/drew/conda/envs/tf_env/lib/python3.10/site-packages/keras/backend.py\", line 5369, in relu\n      x = tf.nn.relu(x)\nNode: 'model/conv2d/Relu'\nCUDNN_STATUS_EXECUTION_FAILED\nin tensorflow/compiler/xla/stream_executor/cuda/cuda_dnn.cc(4644): 'status'\n\t [[{{node model/conv2d/Relu}}]] [Op:__inference_train_function_1966]",
     "output_type": "error",
     "traceback": [
      "\u001b[0;31m---------------------------------------------------------------------------\u001b[0m",
      "\u001b[0;31mUnknownError\u001b[0m                              Traceback (most recent call last)",
      "Cell \u001b[0;32mIn[13], line 3\u001b[0m\n\u001b[1;32m      1\u001b[0m \u001b[38;5;66;03m# os.environ[\"XLA_FLAGS\"]=\"--xla_gpu_cuda_data_dir=/opt/cuda\"\u001b[39;00m\n\u001b[1;32m      2\u001b[0m os\u001b[38;5;241m.\u001b[39menviron[\u001b[38;5;124m\"\u001b[39m\u001b[38;5;124mXLA_FLAGS\u001b[39m\u001b[38;5;124m\"\u001b[39m]\u001b[38;5;241m=\u001b[39m\u001b[38;5;124m\"\u001b[39m\u001b[38;5;124m--xla_gpu_cuda_data_dir=/home/drew/conda/envs/tf_env/\u001b[39m\u001b[38;5;124m\"\u001b[39m\n\u001b[0;32m----> 3\u001b[0m history \u001b[38;5;241m=\u001b[39m \u001b[43mmodel\u001b[49m\u001b[38;5;241;43m.\u001b[39;49m\u001b[43mfit\u001b[49m\u001b[43m(\u001b[49m\u001b[43minputs\u001b[49m\u001b[43m,\u001b[49m\u001b[43m \u001b[49m\u001b[43minputs\u001b[49m\u001b[43m,\u001b[49m\n\u001b[1;32m      4\u001b[0m \u001b[43m                    \u001b[49m\u001b[43mepochs\u001b[49m\u001b[38;5;241;43m=\u001b[39;49m\u001b[38;5;241;43m1\u001b[39;49m\u001b[43m,\u001b[49m\n\u001b[1;32m      5\u001b[0m \u001b[43m                    \u001b[49m\u001b[43mvalidation_data\u001b[49m\u001b[38;5;241;43m=\u001b[39;49m\u001b[43m(\u001b[49m\u001b[43minputs\u001b[49m\u001b[43m,\u001b[49m\u001b[43m \u001b[49m\u001b[43minputs\u001b[49m\u001b[43m)\u001b[49m\u001b[43m)\u001b[49m\n",
      "File \u001b[0;32m~/conda/envs/tf_env/lib/python3.10/site-packages/keras/utils/traceback_utils.py:70\u001b[0m, in \u001b[0;36mfilter_traceback.<locals>.error_handler\u001b[0;34m(*args, **kwargs)\u001b[0m\n\u001b[1;32m     67\u001b[0m     filtered_tb \u001b[38;5;241m=\u001b[39m _process_traceback_frames(e\u001b[38;5;241m.\u001b[39m__traceback__)\n\u001b[1;32m     68\u001b[0m     \u001b[38;5;66;03m# To get the full stack trace, call:\u001b[39;00m\n\u001b[1;32m     69\u001b[0m     \u001b[38;5;66;03m# `tf.debugging.disable_traceback_filtering()`\u001b[39;00m\n\u001b[0;32m---> 70\u001b[0m     \u001b[38;5;28;01mraise\u001b[39;00m e\u001b[38;5;241m.\u001b[39mwith_traceback(filtered_tb) \u001b[38;5;28;01mfrom\u001b[39;00m \u001b[38;5;28mNone\u001b[39m\n\u001b[1;32m     71\u001b[0m \u001b[38;5;28;01mfinally\u001b[39;00m:\n\u001b[1;32m     72\u001b[0m     \u001b[38;5;28;01mdel\u001b[39;00m filtered_tb\n",
      "File \u001b[0;32m~/conda/envs/tf_env/lib/python3.10/site-packages/tensorflow/python/eager/execute.py:52\u001b[0m, in \u001b[0;36mquick_execute\u001b[0;34m(op_name, num_outputs, inputs, attrs, ctx, name)\u001b[0m\n\u001b[1;32m     50\u001b[0m \u001b[38;5;28;01mtry\u001b[39;00m:\n\u001b[1;32m     51\u001b[0m   ctx\u001b[38;5;241m.\u001b[39mensure_initialized()\n\u001b[0;32m---> 52\u001b[0m   tensors \u001b[38;5;241m=\u001b[39m pywrap_tfe\u001b[38;5;241m.\u001b[39mTFE_Py_Execute(ctx\u001b[38;5;241m.\u001b[39m_handle, device_name, op_name,\n\u001b[1;32m     53\u001b[0m                                       inputs, attrs, num_outputs)\n\u001b[1;32m     54\u001b[0m \u001b[38;5;28;01mexcept\u001b[39;00m core\u001b[38;5;241m.\u001b[39m_NotOkStatusException \u001b[38;5;28;01mas\u001b[39;00m e:\n\u001b[1;32m     55\u001b[0m   \u001b[38;5;28;01mif\u001b[39;00m name \u001b[38;5;129;01mis\u001b[39;00m \u001b[38;5;129;01mnot\u001b[39;00m \u001b[38;5;28;01mNone\u001b[39;00m:\n",
      "\u001b[0;31mUnknownError\u001b[0m: Graph execution error:\n\nDetected at node 'model/conv2d/Relu' defined at (most recent call last):\n    File \"/home/drew/conda/envs/tf_env/lib/python3.10/runpy.py\", line 196, in _run_module_as_main\n      return _run_code(code, main_globals, None,\n    File \"/home/drew/conda/envs/tf_env/lib/python3.10/runpy.py\", line 86, in _run_code\n      exec(code, run_globals)\n    File \"/home/drew/conda/envs/tf_env/lib/python3.10/site-packages/ipykernel_launcher.py\", line 17, in <module>\n      app.launch_new_instance()\n    File \"/home/drew/conda/envs/tf_env/lib/python3.10/site-packages/traitlets/config/application.py\", line 985, in launch_instance\n      app.start()\n    File \"/home/drew/conda/envs/tf_env/lib/python3.10/site-packages/ipykernel/kernelapp.py\", line 712, in start\n      self.io_loop.start()\n    File \"/home/drew/conda/envs/tf_env/lib/python3.10/site-packages/tornado/platform/asyncio.py\", line 215, in start\n      self.asyncio_loop.run_forever()\n    File \"/home/drew/conda/envs/tf_env/lib/python3.10/asyncio/base_events.py\", line 603, in run_forever\n      self._run_once()\n    File \"/home/drew/conda/envs/tf_env/lib/python3.10/asyncio/base_events.py\", line 1899, in _run_once\n      handle._run()\n    File \"/home/drew/conda/envs/tf_env/lib/python3.10/asyncio/events.py\", line 80, in _run\n      self._context.run(self._callback, *self._args)\n    File \"/home/drew/conda/envs/tf_env/lib/python3.10/site-packages/ipykernel/kernelbase.py\", line 510, in dispatch_queue\n      await self.process_one()\n    File \"/home/drew/conda/envs/tf_env/lib/python3.10/site-packages/ipykernel/kernelbase.py\", line 499, in process_one\n      await dispatch(*args)\n    File \"/home/drew/conda/envs/tf_env/lib/python3.10/site-packages/ipykernel/kernelbase.py\", line 406, in dispatch_shell\n      await result\n    File \"/home/drew/conda/envs/tf_env/lib/python3.10/site-packages/ipykernel/kernelbase.py\", line 730, in execute_request\n      reply_content = await reply_content\n    File \"/home/drew/conda/envs/tf_env/lib/python3.10/site-packages/ipykernel/ipkernel.py\", line 383, in do_execute\n      res = shell.run_cell(\n    File \"/home/drew/conda/envs/tf_env/lib/python3.10/site-packages/ipykernel/zmqshell.py\", line 528, in run_cell\n      return super().run_cell(*args, **kwargs)\n    File \"/home/drew/conda/envs/tf_env/lib/python3.10/site-packages/IPython/core/interactiveshell.py\", line 2940, in run_cell\n      result = self._run_cell(\n    File \"/home/drew/conda/envs/tf_env/lib/python3.10/site-packages/IPython/core/interactiveshell.py\", line 2995, in _run_cell\n      return runner(coro)\n    File \"/home/drew/conda/envs/tf_env/lib/python3.10/site-packages/IPython/core/async_helpers.py\", line 129, in _pseudo_sync_runner\n      coro.send(None)\n    File \"/home/drew/conda/envs/tf_env/lib/python3.10/site-packages/IPython/core/interactiveshell.py\", line 3194, in run_cell_async\n      has_raised = await self.run_ast_nodes(code_ast.body, cell_name,\n    File \"/home/drew/conda/envs/tf_env/lib/python3.10/site-packages/IPython/core/interactiveshell.py\", line 3373, in run_ast_nodes\n      if await self.run_code(code, result, async_=asy):\n    File \"/home/drew/conda/envs/tf_env/lib/python3.10/site-packages/IPython/core/interactiveshell.py\", line 3433, in run_code\n      exec(code_obj, self.user_global_ns, self.user_ns)\n    File \"/tmp/ipykernel_639/4101774951.py\", line 3, in <module>\n      history = model.fit(inputs, inputs,\n    File \"/home/drew/conda/envs/tf_env/lib/python3.10/site-packages/keras/utils/traceback_utils.py\", line 65, in error_handler\n      return fn(*args, **kwargs)\n    File \"/home/drew/conda/envs/tf_env/lib/python3.10/site-packages/keras/engine/training.py\", line 1678, in fit\n      tmp_logs = self.train_function(iterator)\n    File \"/home/drew/conda/envs/tf_env/lib/python3.10/site-packages/keras/engine/training.py\", line 1277, in train_function\n      return step_function(self, iterator)\n    File \"/home/drew/conda/envs/tf_env/lib/python3.10/site-packages/keras/engine/training.py\", line 1261, in step_function\n      outputs = model.distribute_strategy.run(run_step, args=(data,))\n    File \"/home/drew/conda/envs/tf_env/lib/python3.10/site-packages/keras/engine/training.py\", line 1242, in run_step\n      outputs = model.train_step(data)\n    File \"/home/drew/conda/envs/tf_env/lib/python3.10/site-packages/keras/engine/training.py\", line 1043, in train_step\n      y_pred = self(x, training=True)\n    File \"/home/drew/conda/envs/tf_env/lib/python3.10/site-packages/keras/utils/traceback_utils.py\", line 65, in error_handler\n      return fn(*args, **kwargs)\n    File \"/home/drew/conda/envs/tf_env/lib/python3.10/site-packages/keras/engine/training.py\", line 557, in __call__\n      return super().__call__(*args, **kwargs)\n    File \"/home/drew/conda/envs/tf_env/lib/python3.10/site-packages/keras/utils/traceback_utils.py\", line 65, in error_handler\n      return fn(*args, **kwargs)\n    File \"/home/drew/conda/envs/tf_env/lib/python3.10/site-packages/keras/engine/base_layer.py\", line 1144, in __call__\n      outputs = call_fn(inputs, *args, **kwargs)\n    File \"/home/drew/conda/envs/tf_env/lib/python3.10/site-packages/keras/utils/traceback_utils.py\", line 96, in error_handler\n      return fn(*args, **kwargs)\n    File \"/home/drew/conda/envs/tf_env/lib/python3.10/site-packages/keras/engine/functional.py\", line 512, in call\n      return self._run_internal_graph(inputs, training=training, mask=mask)\n    File \"/home/drew/conda/envs/tf_env/lib/python3.10/site-packages/keras/engine/functional.py\", line 669, in _run_internal_graph\n      outputs = node.layer(*args, **kwargs)\n    File \"/home/drew/conda/envs/tf_env/lib/python3.10/site-packages/keras/utils/traceback_utils.py\", line 65, in error_handler\n      return fn(*args, **kwargs)\n    File \"/home/drew/conda/envs/tf_env/lib/python3.10/site-packages/keras/engine/base_layer.py\", line 1144, in __call__\n      outputs = call_fn(inputs, *args, **kwargs)\n    File \"/home/drew/conda/envs/tf_env/lib/python3.10/site-packages/keras/utils/traceback_utils.py\", line 96, in error_handler\n      return fn(*args, **kwargs)\n    File \"/home/drew/conda/envs/tf_env/lib/python3.10/site-packages/keras/layers/convolutional/base_conv.py\", line 314, in call\n      return self.activation(outputs)\n    File \"/home/drew/conda/envs/tf_env/lib/python3.10/site-packages/keras/activations.py\", line 317, in relu\n      return backend.relu(\n    File \"/home/drew/conda/envs/tf_env/lib/python3.10/site-packages/keras/backend.py\", line 5369, in relu\n      x = tf.nn.relu(x)\nNode: 'model/conv2d/Relu'\nCUDNN_STATUS_EXECUTION_FAILED\nin tensorflow/compiler/xla/stream_executor/cuda/cuda_dnn.cc(4644): 'status'\n\t [[{{node model/conv2d/Relu}}]] [Op:__inference_train_function_1966]"
     ]
    }
   ],
   "source": [
    "# os.environ[\"XLA_FLAGS\"]=\"--xla_gpu_cuda_data_dir=/opt/cuda\"\n",
    "os.environ[\"XLA_FLAGS\"]=\"--xla_gpu_cuda_data_dir=/home/drew/conda/envs/tf_env/\"\n",
    "history = model.fit(inputs, inputs,\n",
    "                    epochs=1,\n",
    "                    validation_data=(inputs, inputs))"
   ]
  },
  {
   "cell_type": "code",
   "execution_count": null,
   "id": "dc48b6fb",
   "metadata": {},
   "outputs": [],
   "source": [
    "print(x[0,:,:,1].shape)\n",
    "fig = plt.Figure()\n",
    "ax = plt.subplot()\n",
    "ax.imshow(mcolors.hsv_to_rgb(hsv_edges), cmap='gray')\n",
    "plt.show()"
   ]
  }
 ],
 "metadata": {
  "jupytext": {
   "cell_metadata_filter": "-all",
   "formats": "ipynb,auto:percent",
   "notebook_metadata_filter": "-all"
  },
  "kernelspec": {
   "display_name": "Python 3 (ipykernel)",
   "language": "python",
   "name": "python3"
  },
  "language_info": {
   "codemirror_mode": {
    "name": "ipython",
    "version": 3
   },
   "file_extension": ".py",
   "mimetype": "text/x-python",
   "name": "python",
   "nbconvert_exporter": "python",
   "pygments_lexer": "ipython3",
   "version": "3.10.8"
  }
 },
 "nbformat": 4,
 "nbformat_minor": 5
}
